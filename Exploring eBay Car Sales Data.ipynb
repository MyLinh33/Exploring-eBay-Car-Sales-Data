{
 "cells": [
  {
   "cell_type": "markdown",
   "id": "5a1f19ef-57d9-4575-9490-456c5cf2d8bc",
   "metadata": {},
   "source": [
    "# Exploring eBay Car Sales Data"
   ]
  },
  {
   "cell_type": "markdown",
   "id": "f8ecea4a-12be-4e07-a81a-39179517a431",
   "metadata": {},
   "source": [
    "The aim of this project is to clean the dataset and perform some initial analysis on it."
   ]
  },
  {
   "cell_type": "markdown",
   "id": "f2ddad59-7a94-4e5a-9af0-6fea804b57fb",
   "metadata": {
    "jp-MarkdownHeadingCollapsed": true
   },
   "source": [
    "## Opening and exploring data:"
   ]
  },
  {
   "cell_type": "markdown",
   "id": "95691410-df16-4144-9933-6292123b14b4",
   "metadata": {},
   "source": [
    "Data dictionary for the dataset:\n",
    "\n",
    "* **dateCrawled** - When the ad was first crawled. All field-values are taken from this date.\n",
    "\n",
    "* **name** - Name of the car.\n",
    "\n",
    "* **seller** - Whether the seller is private or a dealer.\n",
    "\n",
    "* **offerType** - The type of listing.\n",
    "\n",
    "* **price** - The listed selling price of the car.\n",
    "\n",
    "* **abtest** - Whether the listing is included in an A/B test.\n",
    "\n",
    "* **vehicleType** - The type of vehicle.\n",
    "\n",
    "* **yearOfRegistration** - The year in which the car was first registered.\n",
    "\n",
    "* **gearbox** - The type of transmission.\n",
    "\n",
    "* **powerPS** - The power of the car in PS.\n",
    "\n",
    "* **model** - The car model name.\n",
    "\n",
    "* **odometer** - How many kilometers the car has driven.\n",
    "\n",
    "* **monthOfRegistration** - The month in which the car was first registered.\n",
    "\n",
    "* **fuelType** - What type of fuel the car uses.\n",
    "\n",
    "* **brand** - The brand of the car.\n",
    "\n",
    "* **notRepairedDamage** - If the car has a damage which is not yet repaired.\n",
    "\n",
    "* **dateCreated** - The date the eBay listing was created.\n",
    "\n",
    "* **nrOfPictures** - The number of pictures in the ad.\n",
    "\n",
    "* **postalCode** - The postal code for the location of the vehicle.\n",
    "\n",
    "* **lastSeenOnline** - When the crawler saw this ad last online. this ad last online."
   ]
  },
  {
   "cell_type": "code",
   "execution_count": 5,
   "id": "280d8cbb-998c-4013-8b04-38b50ca9d4e9",
   "metadata": {},
   "outputs": [],
   "source": [
    "import numpy as np\n",
    "import pandas as pd\n",
    "autos=pd.read_csv('autos.csv',encoding = 'latin1')"
   ]
  },
  {
   "cell_type": "markdown",
   "id": "4ff050f1-df1f-4183-8cc7-59b822eedc26",
   "metadata": {},
   "source": [
    "To make them easier to explore, we created a function named autos.info() and autos.head(5)."
   ]
  },
  {
   "cell_type": "code",
   "execution_count": 7,
   "id": "5198992f-6b72-4f36-97f6-aea475236b9c",
   "metadata": {},
   "outputs": [
    {
     "name": "stdout",
     "output_type": "stream",
     "text": [
      "<class 'pandas.core.frame.DataFrame'>\n",
      "RangeIndex: 371528 entries, 0 to 371527\n",
      "Data columns (total 20 columns):\n",
      " #   Column               Non-Null Count   Dtype \n",
      "---  ------               --------------   ----- \n",
      " 0   dateCrawled          371528 non-null  object\n",
      " 1   name                 371528 non-null  object\n",
      " 2   seller               371528 non-null  object\n",
      " 3   offerType            371528 non-null  object\n",
      " 4   price                371528 non-null  int64 \n",
      " 5   abtest               371528 non-null  object\n",
      " 6   vehicleType          333659 non-null  object\n",
      " 7   yearOfRegistration   371528 non-null  int64 \n",
      " 8   gearbox              351319 non-null  object\n",
      " 9   powerPS              371528 non-null  int64 \n",
      " 10  model                351044 non-null  object\n",
      " 11  kilometer            371528 non-null  int64 \n",
      " 12  monthOfRegistration  371528 non-null  int64 \n",
      " 13  fuelType             338142 non-null  object\n",
      " 14  brand                371528 non-null  object\n",
      " 15  notRepairedDamage    299468 non-null  object\n",
      " 16  dateCreated          371528 non-null  object\n",
      " 17  nrOfPictures         371528 non-null  int64 \n",
      " 18  postalCode           371528 non-null  int64 \n",
      " 19  lastSeen             371528 non-null  object\n",
      "dtypes: int64(7), object(13)\n",
      "memory usage: 56.7+ MB\n"
     ]
    }
   ],
   "source": [
    "autos.info()"
   ]
  },
  {
   "cell_type": "code",
   "execution_count": 8,
   "id": "5327bdc2-f914-444b-8548-b328ab78970b",
   "metadata": {},
   "outputs": [
    {
     "data": {
      "text/html": [
       "<div>\n",
       "<style scoped>\n",
       "    .dataframe tbody tr th:only-of-type {\n",
       "        vertical-align: middle;\n",
       "    }\n",
       "\n",
       "    .dataframe tbody tr th {\n",
       "        vertical-align: top;\n",
       "    }\n",
       "\n",
       "    .dataframe thead th {\n",
       "        text-align: right;\n",
       "    }\n",
       "</style>\n",
       "<table border=\"1\" class=\"dataframe\">\n",
       "  <thead>\n",
       "    <tr style=\"text-align: right;\">\n",
       "      <th></th>\n",
       "      <th>dateCrawled</th>\n",
       "      <th>name</th>\n",
       "      <th>seller</th>\n",
       "      <th>offerType</th>\n",
       "      <th>price</th>\n",
       "      <th>abtest</th>\n",
       "      <th>vehicleType</th>\n",
       "      <th>yearOfRegistration</th>\n",
       "      <th>gearbox</th>\n",
       "      <th>powerPS</th>\n",
       "      <th>model</th>\n",
       "      <th>kilometer</th>\n",
       "      <th>monthOfRegistration</th>\n",
       "      <th>fuelType</th>\n",
       "      <th>brand</th>\n",
       "      <th>notRepairedDamage</th>\n",
       "      <th>dateCreated</th>\n",
       "      <th>nrOfPictures</th>\n",
       "      <th>postalCode</th>\n",
       "      <th>lastSeen</th>\n",
       "    </tr>\n",
       "  </thead>\n",
       "  <tbody>\n",
       "    <tr>\n",
       "      <th>0</th>\n",
       "      <td>2016-03-24 11:52:17</td>\n",
       "      <td>Golf_3_1.6</td>\n",
       "      <td>privat</td>\n",
       "      <td>Angebot</td>\n",
       "      <td>480</td>\n",
       "      <td>test</td>\n",
       "      <td>NaN</td>\n",
       "      <td>1993</td>\n",
       "      <td>manuell</td>\n",
       "      <td>0</td>\n",
       "      <td>golf</td>\n",
       "      <td>150000</td>\n",
       "      <td>0</td>\n",
       "      <td>benzin</td>\n",
       "      <td>volkswagen</td>\n",
       "      <td>NaN</td>\n",
       "      <td>2016-03-24 00:00:00</td>\n",
       "      <td>0</td>\n",
       "      <td>70435</td>\n",
       "      <td>2016-04-07 03:16:57</td>\n",
       "    </tr>\n",
       "    <tr>\n",
       "      <th>1</th>\n",
       "      <td>2016-03-24 10:58:45</td>\n",
       "      <td>A5_Sportback_2.7_Tdi</td>\n",
       "      <td>privat</td>\n",
       "      <td>Angebot</td>\n",
       "      <td>18300</td>\n",
       "      <td>test</td>\n",
       "      <td>coupe</td>\n",
       "      <td>2011</td>\n",
       "      <td>manuell</td>\n",
       "      <td>190</td>\n",
       "      <td>NaN</td>\n",
       "      <td>125000</td>\n",
       "      <td>5</td>\n",
       "      <td>diesel</td>\n",
       "      <td>audi</td>\n",
       "      <td>ja</td>\n",
       "      <td>2016-03-24 00:00:00</td>\n",
       "      <td>0</td>\n",
       "      <td>66954</td>\n",
       "      <td>2016-04-07 01:46:50</td>\n",
       "    </tr>\n",
       "    <tr>\n",
       "      <th>2</th>\n",
       "      <td>2016-03-14 12:52:21</td>\n",
       "      <td>Jeep_Grand_Cherokee_\"Overland\"</td>\n",
       "      <td>privat</td>\n",
       "      <td>Angebot</td>\n",
       "      <td>9800</td>\n",
       "      <td>test</td>\n",
       "      <td>suv</td>\n",
       "      <td>2004</td>\n",
       "      <td>automatik</td>\n",
       "      <td>163</td>\n",
       "      <td>grand</td>\n",
       "      <td>125000</td>\n",
       "      <td>8</td>\n",
       "      <td>diesel</td>\n",
       "      <td>jeep</td>\n",
       "      <td>NaN</td>\n",
       "      <td>2016-03-14 00:00:00</td>\n",
       "      <td>0</td>\n",
       "      <td>90480</td>\n",
       "      <td>2016-04-05 12:47:46</td>\n",
       "    </tr>\n",
       "    <tr>\n",
       "      <th>3</th>\n",
       "      <td>2016-03-17 16:54:04</td>\n",
       "      <td>GOLF_4_1_4__3TÜRER</td>\n",
       "      <td>privat</td>\n",
       "      <td>Angebot</td>\n",
       "      <td>1500</td>\n",
       "      <td>test</td>\n",
       "      <td>kleinwagen</td>\n",
       "      <td>2001</td>\n",
       "      <td>manuell</td>\n",
       "      <td>75</td>\n",
       "      <td>golf</td>\n",
       "      <td>150000</td>\n",
       "      <td>6</td>\n",
       "      <td>benzin</td>\n",
       "      <td>volkswagen</td>\n",
       "      <td>nein</td>\n",
       "      <td>2016-03-17 00:00:00</td>\n",
       "      <td>0</td>\n",
       "      <td>91074</td>\n",
       "      <td>2016-03-17 17:40:17</td>\n",
       "    </tr>\n",
       "    <tr>\n",
       "      <th>4</th>\n",
       "      <td>2016-03-31 17:25:20</td>\n",
       "      <td>Skoda_Fabia_1.4_TDI_PD_Classic</td>\n",
       "      <td>privat</td>\n",
       "      <td>Angebot</td>\n",
       "      <td>3600</td>\n",
       "      <td>test</td>\n",
       "      <td>kleinwagen</td>\n",
       "      <td>2008</td>\n",
       "      <td>manuell</td>\n",
       "      <td>69</td>\n",
       "      <td>fabia</td>\n",
       "      <td>90000</td>\n",
       "      <td>7</td>\n",
       "      <td>diesel</td>\n",
       "      <td>skoda</td>\n",
       "      <td>nein</td>\n",
       "      <td>2016-03-31 00:00:00</td>\n",
       "      <td>0</td>\n",
       "      <td>60437</td>\n",
       "      <td>2016-04-06 10:17:21</td>\n",
       "    </tr>\n",
       "  </tbody>\n",
       "</table>\n",
       "</div>"
      ],
      "text/plain": [
       "           dateCrawled                            name  seller offerType  \\\n",
       "0  2016-03-24 11:52:17                      Golf_3_1.6  privat   Angebot   \n",
       "1  2016-03-24 10:58:45            A5_Sportback_2.7_Tdi  privat   Angebot   \n",
       "2  2016-03-14 12:52:21  Jeep_Grand_Cherokee_\"Overland\"  privat   Angebot   \n",
       "3  2016-03-17 16:54:04              GOLF_4_1_4__3TÜRER  privat   Angebot   \n",
       "4  2016-03-31 17:25:20  Skoda_Fabia_1.4_TDI_PD_Classic  privat   Angebot   \n",
       "\n",
       "   price abtest vehicleType  yearOfRegistration    gearbox  powerPS  model  \\\n",
       "0    480   test         NaN                1993    manuell        0   golf   \n",
       "1  18300   test       coupe                2011    manuell      190    NaN   \n",
       "2   9800   test         suv                2004  automatik      163  grand   \n",
       "3   1500   test  kleinwagen                2001    manuell       75   golf   \n",
       "4   3600   test  kleinwagen                2008    manuell       69  fabia   \n",
       "\n",
       "   kilometer  monthOfRegistration fuelType       brand notRepairedDamage  \\\n",
       "0     150000                    0   benzin  volkswagen               NaN   \n",
       "1     125000                    5   diesel        audi                ja   \n",
       "2     125000                    8   diesel        jeep               NaN   \n",
       "3     150000                    6   benzin  volkswagen              nein   \n",
       "4      90000                    7   diesel       skoda              nein   \n",
       "\n",
       "           dateCreated  nrOfPictures  postalCode             lastSeen  \n",
       "0  2016-03-24 00:00:00             0       70435  2016-04-07 03:16:57  \n",
       "1  2016-03-24 00:00:00             0       66954  2016-04-07 01:46:50  \n",
       "2  2016-03-14 00:00:00             0       90480  2016-04-05 12:47:46  \n",
       "3  2016-03-17 00:00:00             0       91074  2016-03-17 17:40:17  \n",
       "4  2016-03-31 00:00:00             0       60437  2016-04-06 10:17:21  "
      ]
     },
     "execution_count": 8,
     "metadata": {},
     "output_type": "execute_result"
    }
   ],
   "source": [
    "autos.head(5)"
   ]
  },
  {
   "cell_type": "markdown",
   "id": "be716619-93e0-4285-84ae-1a652b1aa957",
   "metadata": {},
   "source": [
    "A [dataset](https://data.world/data-society/used-cars-data) containing data about approximately 371528 cars for sale:\n",
    "* The dataset contains 20 columns, most of which are strings.\n",
    "* Some columns are missed data such as: 'vehicleType', 'gearbox', 'model', 'fuelType','notRepairedDamage'.\n",
    "* The column names use [camelcase](https://en.wikipedia.org/wiki/Camel_case) instead of Python's preferred [snakecase](https://en.wikipedia.org/wiki/Snake_case), we will replace spaces with underscores."
   ]
  },
  {
   "cell_type": "markdown",
   "id": "43820f98-374f-4d1c-9cd6-eca261d75f39",
   "metadata": {
    "jp-MarkdownHeadingCollapsed": true
   },
   "source": [
    "## Cleaning Column Names"
   ]
  },
  {
   "cell_type": "markdown",
   "id": "6f6bab80-8cf0-4677-b1de-5e50fdfe7ffd",
   "metadata": {},
   "source": [
    "Let's convert the column names from camelcase to snakecase and change some of the column names based on the data dictionary in order to be more descriptive."
   ]
  },
  {
   "cell_type": "code",
   "execution_count": 12,
   "id": "46f2a0e5-e1b1-4cfa-bb1c-f746860f241a",
   "metadata": {},
   "outputs": [
    {
     "data": {
      "text/plain": [
       "Index(['dateCrawled', 'name', 'seller', 'offerType', 'price', 'abtest',\n",
       "       'vehicleType', 'yearOfRegistration', 'gearbox', 'powerPS', 'model',\n",
       "       'kilometer', 'monthOfRegistration', 'fuelType', 'brand',\n",
       "       'notRepairedDamage', 'dateCreated', 'nrOfPictures', 'postalCode',\n",
       "       'lastSeen'],\n",
       "      dtype='object')"
      ]
     },
     "execution_count": 12,
     "metadata": {},
     "output_type": "execute_result"
    }
   ],
   "source": [
    "autos.columns"
   ]
  },
  {
   "cell_type": "code",
   "execution_count": 13,
   "id": "cdcb905a-52d8-4c82-bb2b-425a861fd5a4",
   "metadata": {},
   "outputs": [],
   "source": [
    "def change_name(dataset, old_names, new_names):\n",
    "    rename_dict = dict(zip(old_names, new_names))\n",
    "    dataset = dataset.rename(columns=rename_dict)\n",
    "    return dataset"
   ]
  },
  {
   "cell_type": "code",
   "execution_count": 14,
   "id": "34b39668-44b5-4dfe-ae5b-189de05c89e7",
   "metadata": {},
   "outputs": [],
   "source": [
    "    old_names = [\"yearOfRegistration\", \"monthOfRegistration\", \"notRepairedDamage\", \"dateCreated\"]\n",
    "    new_names = [\"registration_year\", \"registration_month\", \"unrepaired_damage\", \"ad_created\"]\n",
    "    \n",
    "    autos = change_name(autos, old_names, new_names)"
   ]
  },
  {
   "cell_type": "code",
   "execution_count": 15,
   "id": "17aad6af-8f7c-4517-bb7a-ef66738da119",
   "metadata": {},
   "outputs": [],
   "source": [
    "import re\n",
    "\n",
    "def change_case(dataset):\n",
    "    new_columns = []\n",
    "    for col in dataset.columns:\n",
    "        col = re.sub(r'([a-z])([A-Z])', r'\\1_\\2', col).lower()\n",
    "        new_columns.append(col)\n",
    "    dataset.columns = new_columns\n",
    "    return dataset\n"
   ]
  },
  {
   "cell_type": "code",
   "execution_count": 16,
   "id": "e616d797-1875-4640-b50e-5a1007b576e1",
   "metadata": {},
   "outputs": [
    {
     "name": "stdout",
     "output_type": "stream",
     "text": [
      "<class 'pandas.core.frame.DataFrame'>\n",
      "RangeIndex: 371528 entries, 0 to 371527\n",
      "Data columns (total 20 columns):\n",
      " #   Column              Non-Null Count   Dtype \n",
      "---  ------              --------------   ----- \n",
      " 0   date_crawled        371528 non-null  object\n",
      " 1   name                371528 non-null  object\n",
      " 2   seller              371528 non-null  object\n",
      " 3   offer_type          371528 non-null  object\n",
      " 4   price               371528 non-null  int64 \n",
      " 5   abtest              371528 non-null  object\n",
      " 6   vehicle_type        333659 non-null  object\n",
      " 7   registration_year   371528 non-null  int64 \n",
      " 8   gearbox             351319 non-null  object\n",
      " 9   power_ps            371528 non-null  int64 \n",
      " 10  model               351044 non-null  object\n",
      " 11  kilometer           371528 non-null  int64 \n",
      " 12  registration_month  371528 non-null  int64 \n",
      " 13  fuel_type           338142 non-null  object\n",
      " 14  brand               371528 non-null  object\n",
      " 15  unrepaired_damage   299468 non-null  object\n",
      " 16  ad_created          371528 non-null  object\n",
      " 17  nr_of_pictures      371528 non-null  int64 \n",
      " 18  postal_code         371528 non-null  int64 \n",
      " 19  last_seen           371528 non-null  object\n",
      "dtypes: int64(7), object(13)\n",
      "memory usage: 56.7+ MB\n"
     ]
    }
   ],
   "source": [
    "autos = change_case(autos)\n",
    "autos.info()"
   ]
  },
  {
   "cell_type": "markdown",
   "id": "c1366c72-4f1b-4864-9cda-10200f9c5620",
   "metadata": {
    "jp-MarkdownHeadingCollapsed": true
   },
   "source": [
    "## Initial Exploration"
   ]
  },
  {
   "cell_type": "markdown",
   "id": "19f72daf-e435-4ec1-8380-6984698e9af1",
   "metadata": {},
   "source": [
    "Now let's do some basic data exploration to determine what other cleaning tasks need to be done. Initially we looked for:\n",
    "1. Some columns that have mostly one value that are candidates to be dropped: 'seller', 'offer_type', 'abtest'\n",
    "2. Some columns that have no value for analysis that are candidates to be dropped : 'date_crawled', 'ad_created', 'nr_of_pictures', 'postal_code','last_seen'\n",
    "3. Some columns need more investigation:\n",
    "    * The have a minimum value of 0 is 'price','power_ps'                \n",
    "    * The 'power_ps' column and the 'price' has outliers           \n",
    "    * The 'registration_year' column contains some odd values  The minimum value is 1000, before cars were invened.  The maximum value is 9999, many years into the future"
   ]
  },
  {
   "cell_type": "markdown",
   "id": "746cfe62-d1f8-4fa7-aa46-860ce6687b2e",
   "metadata": {},
   "source": [
    "autos.tail(5)"
   ]
  },
  {
   "cell_type": "code",
   "execution_count": 20,
   "id": "0176c287-ad33-4bdd-acfd-4b4bf0c2c249",
   "metadata": {},
   "outputs": [
    {
     "data": {
      "text/html": [
       "<div>\n",
       "<style scoped>\n",
       "    .dataframe tbody tr th:only-of-type {\n",
       "        vertical-align: middle;\n",
       "    }\n",
       "\n",
       "    .dataframe tbody tr th {\n",
       "        vertical-align: top;\n",
       "    }\n",
       "\n",
       "    .dataframe thead th {\n",
       "        text-align: right;\n",
       "    }\n",
       "</style>\n",
       "<table border=\"1\" class=\"dataframe\">\n",
       "  <thead>\n",
       "    <tr style=\"text-align: right;\">\n",
       "      <th></th>\n",
       "      <th>date_crawled</th>\n",
       "      <th>name</th>\n",
       "      <th>seller</th>\n",
       "      <th>offer_type</th>\n",
       "      <th>price</th>\n",
       "      <th>abtest</th>\n",
       "      <th>vehicle_type</th>\n",
       "      <th>registration_year</th>\n",
       "      <th>gearbox</th>\n",
       "      <th>power_ps</th>\n",
       "      <th>model</th>\n",
       "      <th>kilometer</th>\n",
       "      <th>registration_month</th>\n",
       "      <th>fuel_type</th>\n",
       "      <th>brand</th>\n",
       "      <th>unrepaired_damage</th>\n",
       "      <th>ad_created</th>\n",
       "      <th>nr_of_pictures</th>\n",
       "      <th>postal_code</th>\n",
       "      <th>last_seen</th>\n",
       "    </tr>\n",
       "  </thead>\n",
       "  <tbody>\n",
       "    <tr>\n",
       "      <th>count</th>\n",
       "      <td>371528</td>\n",
       "      <td>371528</td>\n",
       "      <td>371528</td>\n",
       "      <td>371528</td>\n",
       "      <td>3.715280e+05</td>\n",
       "      <td>371528</td>\n",
       "      <td>333659</td>\n",
       "      <td>371528.000000</td>\n",
       "      <td>351319</td>\n",
       "      <td>371528.000000</td>\n",
       "      <td>351044</td>\n",
       "      <td>371528.000000</td>\n",
       "      <td>371528.000000</td>\n",
       "      <td>338142</td>\n",
       "      <td>371528</td>\n",
       "      <td>299468</td>\n",
       "      <td>371528</td>\n",
       "      <td>371528.0</td>\n",
       "      <td>371528.00000</td>\n",
       "      <td>371528</td>\n",
       "    </tr>\n",
       "    <tr>\n",
       "      <th>unique</th>\n",
       "      <td>280500</td>\n",
       "      <td>233531</td>\n",
       "      <td>2</td>\n",
       "      <td>2</td>\n",
       "      <td>NaN</td>\n",
       "      <td>2</td>\n",
       "      <td>8</td>\n",
       "      <td>NaN</td>\n",
       "      <td>2</td>\n",
       "      <td>NaN</td>\n",
       "      <td>251</td>\n",
       "      <td>NaN</td>\n",
       "      <td>NaN</td>\n",
       "      <td>7</td>\n",
       "      <td>40</td>\n",
       "      <td>2</td>\n",
       "      <td>114</td>\n",
       "      <td>NaN</td>\n",
       "      <td>NaN</td>\n",
       "      <td>182806</td>\n",
       "    </tr>\n",
       "    <tr>\n",
       "      <th>top</th>\n",
       "      <td>2016-03-24 14:49:47</td>\n",
       "      <td>Ford_Fiesta</td>\n",
       "      <td>privat</td>\n",
       "      <td>Angebot</td>\n",
       "      <td>NaN</td>\n",
       "      <td>test</td>\n",
       "      <td>limousine</td>\n",
       "      <td>NaN</td>\n",
       "      <td>manuell</td>\n",
       "      <td>NaN</td>\n",
       "      <td>golf</td>\n",
       "      <td>NaN</td>\n",
       "      <td>NaN</td>\n",
       "      <td>benzin</td>\n",
       "      <td>volkswagen</td>\n",
       "      <td>nein</td>\n",
       "      <td>2016-04-03 00:00:00</td>\n",
       "      <td>NaN</td>\n",
       "      <td>NaN</td>\n",
       "      <td>2016-04-07 06:45:59</td>\n",
       "    </tr>\n",
       "    <tr>\n",
       "      <th>freq</th>\n",
       "      <td>7</td>\n",
       "      <td>657</td>\n",
       "      <td>371525</td>\n",
       "      <td>371516</td>\n",
       "      <td>NaN</td>\n",
       "      <td>192585</td>\n",
       "      <td>95894</td>\n",
       "      <td>NaN</td>\n",
       "      <td>274214</td>\n",
       "      <td>NaN</td>\n",
       "      <td>30070</td>\n",
       "      <td>NaN</td>\n",
       "      <td>NaN</td>\n",
       "      <td>223857</td>\n",
       "      <td>79640</td>\n",
       "      <td>263182</td>\n",
       "      <td>14450</td>\n",
       "      <td>NaN</td>\n",
       "      <td>NaN</td>\n",
       "      <td>17</td>\n",
       "    </tr>\n",
       "    <tr>\n",
       "      <th>mean</th>\n",
       "      <td>NaN</td>\n",
       "      <td>NaN</td>\n",
       "      <td>NaN</td>\n",
       "      <td>NaN</td>\n",
       "      <td>1.729514e+04</td>\n",
       "      <td>NaN</td>\n",
       "      <td>NaN</td>\n",
       "      <td>2004.577997</td>\n",
       "      <td>NaN</td>\n",
       "      <td>115.549477</td>\n",
       "      <td>NaN</td>\n",
       "      <td>125618.688228</td>\n",
       "      <td>5.734445</td>\n",
       "      <td>NaN</td>\n",
       "      <td>NaN</td>\n",
       "      <td>NaN</td>\n",
       "      <td>NaN</td>\n",
       "      <td>0.0</td>\n",
       "      <td>50820.66764</td>\n",
       "      <td>NaN</td>\n",
       "    </tr>\n",
       "    <tr>\n",
       "      <th>std</th>\n",
       "      <td>NaN</td>\n",
       "      <td>NaN</td>\n",
       "      <td>NaN</td>\n",
       "      <td>NaN</td>\n",
       "      <td>3.587954e+06</td>\n",
       "      <td>NaN</td>\n",
       "      <td>NaN</td>\n",
       "      <td>92.866598</td>\n",
       "      <td>NaN</td>\n",
       "      <td>192.139578</td>\n",
       "      <td>NaN</td>\n",
       "      <td>40112.337051</td>\n",
       "      <td>3.712412</td>\n",
       "      <td>NaN</td>\n",
       "      <td>NaN</td>\n",
       "      <td>NaN</td>\n",
       "      <td>NaN</td>\n",
       "      <td>0.0</td>\n",
       "      <td>25799.08247</td>\n",
       "      <td>NaN</td>\n",
       "    </tr>\n",
       "    <tr>\n",
       "      <th>min</th>\n",
       "      <td>NaN</td>\n",
       "      <td>NaN</td>\n",
       "      <td>NaN</td>\n",
       "      <td>NaN</td>\n",
       "      <td>0.000000e+00</td>\n",
       "      <td>NaN</td>\n",
       "      <td>NaN</td>\n",
       "      <td>1000.000000</td>\n",
       "      <td>NaN</td>\n",
       "      <td>0.000000</td>\n",
       "      <td>NaN</td>\n",
       "      <td>5000.000000</td>\n",
       "      <td>0.000000</td>\n",
       "      <td>NaN</td>\n",
       "      <td>NaN</td>\n",
       "      <td>NaN</td>\n",
       "      <td>NaN</td>\n",
       "      <td>0.0</td>\n",
       "      <td>1067.00000</td>\n",
       "      <td>NaN</td>\n",
       "    </tr>\n",
       "    <tr>\n",
       "      <th>25%</th>\n",
       "      <td>NaN</td>\n",
       "      <td>NaN</td>\n",
       "      <td>NaN</td>\n",
       "      <td>NaN</td>\n",
       "      <td>1.150000e+03</td>\n",
       "      <td>NaN</td>\n",
       "      <td>NaN</td>\n",
       "      <td>1999.000000</td>\n",
       "      <td>NaN</td>\n",
       "      <td>70.000000</td>\n",
       "      <td>NaN</td>\n",
       "      <td>125000.000000</td>\n",
       "      <td>3.000000</td>\n",
       "      <td>NaN</td>\n",
       "      <td>NaN</td>\n",
       "      <td>NaN</td>\n",
       "      <td>NaN</td>\n",
       "      <td>0.0</td>\n",
       "      <td>30459.00000</td>\n",
       "      <td>NaN</td>\n",
       "    </tr>\n",
       "    <tr>\n",
       "      <th>50%</th>\n",
       "      <td>NaN</td>\n",
       "      <td>NaN</td>\n",
       "      <td>NaN</td>\n",
       "      <td>NaN</td>\n",
       "      <td>2.950000e+03</td>\n",
       "      <td>NaN</td>\n",
       "      <td>NaN</td>\n",
       "      <td>2003.000000</td>\n",
       "      <td>NaN</td>\n",
       "      <td>105.000000</td>\n",
       "      <td>NaN</td>\n",
       "      <td>150000.000000</td>\n",
       "      <td>6.000000</td>\n",
       "      <td>NaN</td>\n",
       "      <td>NaN</td>\n",
       "      <td>NaN</td>\n",
       "      <td>NaN</td>\n",
       "      <td>0.0</td>\n",
       "      <td>49610.00000</td>\n",
       "      <td>NaN</td>\n",
       "    </tr>\n",
       "    <tr>\n",
       "      <th>75%</th>\n",
       "      <td>NaN</td>\n",
       "      <td>NaN</td>\n",
       "      <td>NaN</td>\n",
       "      <td>NaN</td>\n",
       "      <td>7.200000e+03</td>\n",
       "      <td>NaN</td>\n",
       "      <td>NaN</td>\n",
       "      <td>2008.000000</td>\n",
       "      <td>NaN</td>\n",
       "      <td>150.000000</td>\n",
       "      <td>NaN</td>\n",
       "      <td>150000.000000</td>\n",
       "      <td>9.000000</td>\n",
       "      <td>NaN</td>\n",
       "      <td>NaN</td>\n",
       "      <td>NaN</td>\n",
       "      <td>NaN</td>\n",
       "      <td>0.0</td>\n",
       "      <td>71546.00000</td>\n",
       "      <td>NaN</td>\n",
       "    </tr>\n",
       "    <tr>\n",
       "      <th>max</th>\n",
       "      <td>NaN</td>\n",
       "      <td>NaN</td>\n",
       "      <td>NaN</td>\n",
       "      <td>NaN</td>\n",
       "      <td>2.147484e+09</td>\n",
       "      <td>NaN</td>\n",
       "      <td>NaN</td>\n",
       "      <td>9999.000000</td>\n",
       "      <td>NaN</td>\n",
       "      <td>20000.000000</td>\n",
       "      <td>NaN</td>\n",
       "      <td>150000.000000</td>\n",
       "      <td>12.000000</td>\n",
       "      <td>NaN</td>\n",
       "      <td>NaN</td>\n",
       "      <td>NaN</td>\n",
       "      <td>NaN</td>\n",
       "      <td>0.0</td>\n",
       "      <td>99998.00000</td>\n",
       "      <td>NaN</td>\n",
       "    </tr>\n",
       "  </tbody>\n",
       "</table>\n",
       "</div>"
      ],
      "text/plain": [
       "               date_crawled         name  seller offer_type         price  \\\n",
       "count                371528       371528  371528     371528  3.715280e+05   \n",
       "unique               280500       233531       2          2           NaN   \n",
       "top     2016-03-24 14:49:47  Ford_Fiesta  privat    Angebot           NaN   \n",
       "freq                      7          657  371525     371516           NaN   \n",
       "mean                    NaN          NaN     NaN        NaN  1.729514e+04   \n",
       "std                     NaN          NaN     NaN        NaN  3.587954e+06   \n",
       "min                     NaN          NaN     NaN        NaN  0.000000e+00   \n",
       "25%                     NaN          NaN     NaN        NaN  1.150000e+03   \n",
       "50%                     NaN          NaN     NaN        NaN  2.950000e+03   \n",
       "75%                     NaN          NaN     NaN        NaN  7.200000e+03   \n",
       "max                     NaN          NaN     NaN        NaN  2.147484e+09   \n",
       "\n",
       "        abtest vehicle_type  registration_year  gearbox       power_ps  \\\n",
       "count   371528       333659      371528.000000   351319  371528.000000   \n",
       "unique       2            8                NaN        2            NaN   \n",
       "top       test    limousine                NaN  manuell            NaN   \n",
       "freq    192585        95894                NaN   274214            NaN   \n",
       "mean       NaN          NaN        2004.577997      NaN     115.549477   \n",
       "std        NaN          NaN          92.866598      NaN     192.139578   \n",
       "min        NaN          NaN        1000.000000      NaN       0.000000   \n",
       "25%        NaN          NaN        1999.000000      NaN      70.000000   \n",
       "50%        NaN          NaN        2003.000000      NaN     105.000000   \n",
       "75%        NaN          NaN        2008.000000      NaN     150.000000   \n",
       "max        NaN          NaN        9999.000000      NaN   20000.000000   \n",
       "\n",
       "         model      kilometer  registration_month fuel_type       brand  \\\n",
       "count   351044  371528.000000       371528.000000    338142      371528   \n",
       "unique     251            NaN                 NaN         7          40   \n",
       "top       golf            NaN                 NaN    benzin  volkswagen   \n",
       "freq     30070            NaN                 NaN    223857       79640   \n",
       "mean       NaN  125618.688228            5.734445       NaN         NaN   \n",
       "std        NaN   40112.337051            3.712412       NaN         NaN   \n",
       "min        NaN    5000.000000            0.000000       NaN         NaN   \n",
       "25%        NaN  125000.000000            3.000000       NaN         NaN   \n",
       "50%        NaN  150000.000000            6.000000       NaN         NaN   \n",
       "75%        NaN  150000.000000            9.000000       NaN         NaN   \n",
       "max        NaN  150000.000000           12.000000       NaN         NaN   \n",
       "\n",
       "       unrepaired_damage           ad_created  nr_of_pictures   postal_code  \\\n",
       "count             299468               371528        371528.0  371528.00000   \n",
       "unique                 2                  114             NaN           NaN   \n",
       "top                 nein  2016-04-03 00:00:00             NaN           NaN   \n",
       "freq              263182                14450             NaN           NaN   \n",
       "mean                 NaN                  NaN             0.0   50820.66764   \n",
       "std                  NaN                  NaN             0.0   25799.08247   \n",
       "min                  NaN                  NaN             0.0    1067.00000   \n",
       "25%                  NaN                  NaN             0.0   30459.00000   \n",
       "50%                  NaN                  NaN             0.0   49610.00000   \n",
       "75%                  NaN                  NaN             0.0   71546.00000   \n",
       "max                  NaN                  NaN             0.0   99998.00000   \n",
       "\n",
       "                  last_seen  \n",
       "count                371528  \n",
       "unique               182806  \n",
       "top     2016-04-07 06:45:59  \n",
       "freq                     17  \n",
       "mean                    NaN  \n",
       "std                     NaN  \n",
       "min                     NaN  \n",
       "25%                     NaN  \n",
       "50%                     NaN  \n",
       "75%                     NaN  \n",
       "max                     NaN  "
      ]
     },
     "execution_count": 20,
     "metadata": {},
     "output_type": "execute_result"
    }
   ],
   "source": [
    "autos.describe(include='all')"
   ]
  },
  {
   "cell_type": "markdown",
   "id": "05560052-4c8a-4d1c-ae29-6f40dab4f90f",
   "metadata": {},
   "source": []
  },
  {
   "cell_type": "markdown",
   "id": "dd4dacb9-4cf6-44c2-9874-8f5e40ec5aa4",
   "metadata": {
    "jp-MarkdownHeadingCollapsed": true
   },
   "source": [
    "## Cleaning"
   ]
  },
  {
   "cell_type": "markdown",
   "id": "51aecf76-e4ca-49d3-8680-77354f508e83",
   "metadata": {},
   "source": [
    "### Drop some columns"
   ]
  },
  {
   "cell_type": "code",
   "execution_count": 24,
   "id": "f84b64f5-f579-4fc8-8b42-334e255f447f",
   "metadata": {},
   "outputs": [
    {
     "data": {
      "text/plain": [
       "Index(['date_crawled', 'name', 'seller', 'offer_type', 'price', 'abtest',\n",
       "       'vehicle_type', 'registration_year', 'gearbox', 'power_ps', 'model',\n",
       "       'kilometer', 'registration_month', 'fuel_type', 'brand',\n",
       "       'unrepaired_damage', 'ad_created', 'nr_of_pictures', 'postal_code',\n",
       "       'last_seen'],\n",
       "      dtype='object')"
      ]
     },
     "execution_count": 24,
     "metadata": {},
     "output_type": "execute_result"
    }
   ],
   "source": [
    "autos.columns"
   ]
  },
  {
   "cell_type": "code",
   "execution_count": 25,
   "id": "54769ebd-c47e-469e-b289-219621236bf3",
   "metadata": {},
   "outputs": [],
   "source": [
    "df=autos[['name', 'price', 'vehicle_type', 'registration_year', 'gearbox', 'power_ps',  \n",
    "             'model','kilometer', 'registration_month', 'fuel_type', 'brand','unrepaired_damage']]"
   ]
  },
  {
   "cell_type": "code",
   "execution_count": 26,
   "id": "3dcc1635-5536-4681-bc8e-7e86e9377c67",
   "metadata": {},
   "outputs": [
    {
     "name": "stdout",
     "output_type": "stream",
     "text": [
      "<class 'pandas.core.frame.DataFrame'>\n",
      "RangeIndex: 371528 entries, 0 to 371527\n",
      "Data columns (total 12 columns):\n",
      " #   Column              Non-Null Count   Dtype \n",
      "---  ------              --------------   ----- \n",
      " 0   name                371528 non-null  object\n",
      " 1   price               371528 non-null  int64 \n",
      " 2   vehicle_type        333659 non-null  object\n",
      " 3   registration_year   371528 non-null  int64 \n",
      " 4   gearbox             351319 non-null  object\n",
      " 5   power_ps            371528 non-null  int64 \n",
      " 6   model               351044 non-null  object\n",
      " 7   kilometer           371528 non-null  int64 \n",
      " 8   registration_month  371528 non-null  int64 \n",
      " 9   fuel_type           338142 non-null  object\n",
      " 10  brand               371528 non-null  object\n",
      " 11  unrepaired_damage   299468 non-null  object\n",
      "dtypes: int64(5), object(7)\n",
      "memory usage: 34.0+ MB\n"
     ]
    }
   ],
   "source": [
    "df.info()"
   ]
  },
  {
   "cell_type": "markdown",
   "id": "527ce20d-f73a-458b-8861-edb61663dd54",
   "metadata": {},
   "source": [
    "### Removed the outliers"
   ]
  },
  {
   "cell_type": "markdown",
   "id": "624691cd-203b-4325-97ec-026b9b309a73",
   "metadata": {},
   "source": [
    " We'll start by analyzing the 'price'columns"
   ]
  },
  {
   "cell_type": "code",
   "execution_count": 29,
   "id": "552ad35d-c3d3-4a67-b2a4-22848739436a",
   "metadata": {},
   "outputs": [
    {
     "name": "stdout",
     "output_type": "stream",
     "text": [
      "5597\n",
      "\n",
      "\n",
      "count    3.715280e+05\n",
      "mean     1.729514e+04\n",
      "std      3.587954e+06\n",
      "min      0.000000e+00\n",
      "25%      1.150000e+03\n",
      "50%      2.950000e+03\n",
      "75%      7.200000e+03\n",
      "max      2.147484e+09\n",
      "Name: price, dtype: float64\n",
      "\n",
      "\n",
      "price\n",
      "0     10778\n",
      "1      1189\n",
      "2        12\n",
      "3         8\n",
      "4         1\n",
      "5        26\n",
      "7         3\n",
      "8         9\n",
      "9         8\n",
      "10       84\n",
      "Name: count, dtype: int64\n",
      "\n",
      "\n",
      "price\n",
      "2147483647     1\n",
      "99999999      15\n",
      "99000000       1\n",
      "74185296       1\n",
      "32545461       1\n",
      "27322222       1\n",
      "14000500       1\n",
      "12345678       9\n",
      "11111111      10\n",
      "10010011       1\n",
      "Name: count, dtype: int64\n"
     ]
    }
   ],
   "source": [
    "print(df[\"price\"].unique().shape[0])\n",
    "print('\\n')\n",
    "print(df[\"price\"].describe())\n",
    "print('\\n')\n",
    "print(df[\"price\"].value_counts().sort_index(ascending= True).head(10))\n",
    "print('\\n')\n",
    "print(df[\"price\"].value_counts().sort_index(ascending= False).head(10))"
   ]
  },
  {
   "cell_type": "code",
   "execution_count": 30,
   "id": "25c66d40-5a77-4475-ac94-cf302c9eabd1",
   "metadata": {},
   "outputs": [],
   "source": [
    "df=df[df[\"price\"].between(500,20000)]"
   ]
  },
  {
   "cell_type": "code",
   "execution_count": 31,
   "id": "642b180f-3fc2-4d21-90c3-8b8b1cfdcb85",
   "metadata": {},
   "outputs": [
    {
     "name": "stdout",
     "output_type": "stream",
     "text": [
      "count    318322.000000\n",
      "mean       4895.139243\n",
      "std        4520.389885\n",
      "min         500.000000\n",
      "25%        1499.000000\n",
      "50%        3200.000000\n",
      "75%        6950.000000\n",
      "max       20000.000000\n",
      "Name: price, dtype: float64\n"
     ]
    }
   ],
   "source": [
    "print(df[\"price\"].describe())"
   ]
  },
  {
   "cell_type": "markdown",
   "id": "4bb23b13-af42-47a9-ad6b-22df4aa1d3b1",
   "metadata": {},
   "source": [
    "We focus on cars have price from 500 to 10000"
   ]
  },
  {
   "cell_type": "markdown",
   "id": "9889da88-9b33-4c32-92b1-f795fe781296",
   "metadata": {},
   "source": [
    "Next, We'll start by analyzing the 'power_ps'columns"
   ]
  },
  {
   "cell_type": "code",
   "execution_count": 34,
   "id": "6d33c09f-1aaf-4443-b20b-d2a6dcdd9297",
   "metadata": {},
   "outputs": [
    {
     "name": "stdout",
     "output_type": "stream",
     "text": [
      "668\n",
      "\n",
      "\n",
      "count    318322.000000\n",
      "mean        114.945637\n",
      "std         189.172572\n",
      "min           0.000000\n",
      "25%          75.000000\n",
      "50%         107.000000\n",
      "75%         145.000000\n",
      "max       20000.000000\n",
      "Name: power_ps, dtype: float64\n",
      "\n",
      "\n",
      "power_ps\n",
      "0    28666\n",
      "1       17\n",
      "2        9\n",
      "3        9\n",
      "4       28\n",
      "5       98\n",
      "6       10\n",
      "7       10\n",
      "8        7\n",
      "9        4\n",
      "Name: count, dtype: int64\n",
      "\n",
      "\n",
      "power_ps\n",
      "20000    1\n",
      "19312    1\n",
      "19211    1\n",
      "19208    1\n",
      "17932    1\n",
      "17700    1\n",
      "17410    1\n",
      "17019    1\n",
      "17011    1\n",
      "16312    1\n",
      "Name: count, dtype: int64\n"
     ]
    }
   ],
   "source": [
    "print(df[\"power_ps\"].unique().shape[0])\n",
    "print('\\n')\n",
    "print(df[\"power_ps\"].describe())\n",
    "print('\\n')\n",
    "print(df[\"power_ps\"].value_counts().sort_index(ascending= True).head(10))\n",
    "print('\\n')\n",
    "print(df[\"power_ps\"].value_counts().sort_index(ascending= False).head(10))"
   ]
  },
  {
   "cell_type": "markdown",
   "id": "339e9585-8358-4177-9994-bb05ec4e35ef",
   "metadata": {},
   "source": [
    "We focus on cars have power_ps from 20 to 300"
   ]
  },
  {
   "cell_type": "code",
   "execution_count": 36,
   "id": "03dee1ed-22b5-4e29-94dc-d35688a7cca8",
   "metadata": {},
   "outputs": [
    {
     "name": "stdout",
     "output_type": "stream",
     "text": [
      "count    285966.000000\n",
      "mean        120.338659\n",
      "std          48.563845\n",
      "min          20.000000\n",
      "25%          80.000000\n",
      "50%         115.000000\n",
      "75%         150.000000\n",
      "max         300.000000\n",
      "Name: power_ps, dtype: float64\n"
     ]
    }
   ],
   "source": [
    "df=df[df[\"power_ps\"].between(20,300)]\n",
    "print(df[\"power_ps\"].describe())"
   ]
  },
  {
   "cell_type": "markdown",
   "id": "28124a78-f950-4752-83d2-f2b561708a32",
   "metadata": {},
   "source": [
    "Next, We'll start by analyzing the 'registration_year'columns"
   ]
  },
  {
   "cell_type": "code",
   "execution_count": 38,
   "id": "52c310a6-9f5a-4e1d-a116-7087dc22c8bb",
   "metadata": {},
   "outputs": [
    {
     "data": {
      "text/plain": [
       "count    285966.000000\n",
       "mean       2003.744260\n",
       "std          29.543278\n",
       "min        1000.000000\n",
       "25%        2000.000000\n",
       "50%        2004.000000\n",
       "75%        2008.000000\n",
       "max        9999.000000\n",
       "Name: registration_year, dtype: float64"
      ]
     },
     "execution_count": 38,
     "metadata": {},
     "output_type": "execute_result"
    }
   ],
   "source": [
    "df[\"registration_year\"].describe()"
   ]
  },
  {
   "cell_type": "raw",
   "id": "3aa20185-6d20-4528-8b45-1a2e2045fca5",
   "metadata": {},
   "source": [
    "One thing that stands out from the exploration we did in the last screen is that the registration_year column contains some odd values:\n",
    "* The minimum value is 1000, before cars were invented\n",
    "* The maximum value is 9999, many years into the future\n",
    "\r\n",
    "Because a car can't be first registered after the listing was seen, any vehicle with a registration year abov202416 is definitely inaccurate. Determining the earliest valid year is more difficult. Realistically, it could be somewhere in the first few decades of the 1090.\r\n",
    "\r\n",
    "Let's count the number of listings with cars that fall outside the 1900 242016 interval and see if it's safe to remove those rows entirely, or if we need more custom logic."
   ]
  },
  {
   "cell_type": "markdown",
   "id": "ffb10fc2-22fa-4ce8-93c5-8a32e5a0249d",
   "metadata": {},
   "source": []
  },
  {
   "cell_type": "code",
   "execution_count": 40,
   "id": "b62646cf-4710-438e-a04e-bdf36834f212",
   "metadata": {},
   "outputs": [
    {
     "name": "stdout",
     "output_type": "stream",
     "text": [
      "count    285946.000000\n",
      "mean       2003.570520\n",
      "std           6.836097\n",
      "min        1910.000000\n",
      "25%        2000.000000\n",
      "50%        2004.000000\n",
      "75%        2008.000000\n",
      "max        2019.000000\n",
      "Name: registration_year, dtype: float64\n"
     ]
    }
   ],
   "source": [
    "df=df[df[\"registration_year\"].between(1900,2024)]\n",
    "print(df[\"registration_year\"].describe())"
   ]
  },
  {
   "cell_type": "code",
   "execution_count": 41,
   "id": "69b25c76-f8c5-46fe-b41f-ab8ec5300ddd",
   "metadata": {},
   "outputs": [
    {
     "name": "stdout",
     "output_type": "stream",
     "text": [
      "name                      0\n",
      "price                     0\n",
      "vehicle_type          18108\n",
      "registration_year         0\n",
      "gearbox                5086\n",
      "power_ps                  0\n",
      "model                 10502\n",
      "kilometer                 0\n",
      "registration_month        0\n",
      "fuel_type             16518\n",
      "brand                     0\n",
      "unrepaired_damage     40248\n",
      "dtype: int64\n"
     ]
    }
   ],
   "source": [
    "print(df.isnull().sum())"
   ]
  },
  {
   "cell_type": "code",
   "execution_count": 42,
   "id": "ce497faf-00ea-49a6-9d38-98bda5b846be",
   "metadata": {},
   "outputs": [
    {
     "name": "stdout",
     "output_type": "stream",
     "text": [
      "vehicle_type\n",
      "limousine     78711\n",
      "kleinwagen    62405\n",
      "kombi         56545\n",
      "bus           25840\n",
      "cabrio        18261\n",
      "NaN           18108\n",
      "coupe         13409\n",
      "suv           10457\n",
      "andere         2210\n",
      "Name: count, dtype: int64\n"
     ]
    }
   ],
   "source": [
    "print(df['vehicle_type'].value_counts(dropna=False))"
   ]
  },
  {
   "cell_type": "code",
   "execution_count": 43,
   "id": "7519bd87-98a5-4a8b-a97a-e33506f88126",
   "metadata": {},
   "outputs": [
    {
     "name": "stdout",
     "output_type": "stream",
     "text": [
      "gearbox\n",
      "manuell      224225\n",
      "automatik     56635\n",
      "NaN            5086\n",
      "Name: count, dtype: int64\n"
     ]
    }
   ],
   "source": [
    "print(df['gearbox'].value_counts(dropna=False))"
   ]
  },
  {
   "cell_type": "code",
   "execution_count": 44,
   "id": "cb9b8c8e-70cb-48c9-9f0c-f38e2d66d19d",
   "metadata": {},
   "outputs": [
    {
     "name": "stdout",
     "output_type": "stream",
     "text": [
      "model\n",
      "golf                  24307\n",
      "andere                19184\n",
      "3er                   17101\n",
      "NaN                   10502\n",
      "polo                   9670\n",
      "                      ...  \n",
      "i3                        4\n",
      "samara                    3\n",
      "rangerover                3\n",
      "serie_3                   3\n",
      "range_rover_evoque        2\n",
      "Name: count, Length: 250, dtype: int64\n"
     ]
    }
   ],
   "source": [
    "print(df['model'].value_counts(dropna=False))"
   ]
  },
  {
   "cell_type": "code",
   "execution_count": 45,
   "id": "400e6100-a1c0-4b19-a63d-d9b1cad99551",
   "metadata": {},
   "outputs": [
    {
     "name": "stdout",
     "output_type": "stream",
     "text": [
      "fuel_type\n",
      "benzin     175864\n",
      "diesel      88350\n",
      "NaN         16518\n",
      "lpg          4416\n",
      "cng           482\n",
      "hybrid        202\n",
      "andere         75\n",
      "elektro        39\n",
      "Name: count, dtype: int64\n"
     ]
    }
   ],
   "source": [
    "print(df['fuel_type'].value_counts(dropna=False))"
   ]
  },
  {
   "cell_type": "code",
   "execution_count": 46,
   "id": "fd070bc1-ef1f-427a-9e27-5cda78e04ab3",
   "metadata": {},
   "outputs": [
    {
     "name": "stdout",
     "output_type": "stream",
     "text": [
      "unrepaired_damage\n",
      "nein    222192\n",
      "NaN      40248\n",
      "ja       23506\n",
      "Name: count, dtype: int64\n"
     ]
    }
   ],
   "source": [
    "print(df['unrepaired_damage'].value_counts(dropna=False))"
   ]
  },
  {
   "cell_type": "code",
   "execution_count": 47,
   "id": "2e0c632b-e80f-4a98-aa1e-49ed69f86cac",
   "metadata": {},
   "outputs": [],
   "source": [
    "df=df.dropna()"
   ]
  },
  {
   "cell_type": "code",
   "execution_count": 48,
   "id": "7e0548bc-69c4-4f58-937f-09b27147b412",
   "metadata": {},
   "outputs": [
    {
     "data": {
      "text/html": [
       "<div>\n",
       "<style scoped>\n",
       "    .dataframe tbody tr th:only-of-type {\n",
       "        vertical-align: middle;\n",
       "    }\n",
       "\n",
       "    .dataframe tbody tr th {\n",
       "        vertical-align: top;\n",
       "    }\n",
       "\n",
       "    .dataframe thead th {\n",
       "        text-align: right;\n",
       "    }\n",
       "</style>\n",
       "<table border=\"1\" class=\"dataframe\">\n",
       "  <thead>\n",
       "    <tr style=\"text-align: right;\">\n",
       "      <th></th>\n",
       "      <th>name</th>\n",
       "      <th>price</th>\n",
       "      <th>vehicle_type</th>\n",
       "      <th>registration_year</th>\n",
       "      <th>gearbox</th>\n",
       "      <th>power_ps</th>\n",
       "      <th>model</th>\n",
       "      <th>kilometer</th>\n",
       "      <th>registration_month</th>\n",
       "      <th>fuel_type</th>\n",
       "      <th>brand</th>\n",
       "      <th>unrepaired_damage</th>\n",
       "    </tr>\n",
       "  </thead>\n",
       "  <tbody>\n",
       "    <tr>\n",
       "      <th>3</th>\n",
       "      <td>GOLF_4_1_4__3TÜRER</td>\n",
       "      <td>1500</td>\n",
       "      <td>kleinwagen</td>\n",
       "      <td>2001</td>\n",
       "      <td>manuell</td>\n",
       "      <td>75</td>\n",
       "      <td>golf</td>\n",
       "      <td>150000</td>\n",
       "      <td>6</td>\n",
       "      <td>benzin</td>\n",
       "      <td>volkswagen</td>\n",
       "      <td>nein</td>\n",
       "    </tr>\n",
       "    <tr>\n",
       "      <th>4</th>\n",
       "      <td>Skoda_Fabia_1.4_TDI_PD_Classic</td>\n",
       "      <td>3600</td>\n",
       "      <td>kleinwagen</td>\n",
       "      <td>2008</td>\n",
       "      <td>manuell</td>\n",
       "      <td>69</td>\n",
       "      <td>fabia</td>\n",
       "      <td>90000</td>\n",
       "      <td>7</td>\n",
       "      <td>diesel</td>\n",
       "      <td>skoda</td>\n",
       "      <td>nein</td>\n",
       "    </tr>\n",
       "    <tr>\n",
       "      <th>5</th>\n",
       "      <td>BMW_316i___e36_Limousine___Bastlerfahrzeug__Ex...</td>\n",
       "      <td>650</td>\n",
       "      <td>limousine</td>\n",
       "      <td>1995</td>\n",
       "      <td>manuell</td>\n",
       "      <td>102</td>\n",
       "      <td>3er</td>\n",
       "      <td>150000</td>\n",
       "      <td>10</td>\n",
       "      <td>benzin</td>\n",
       "      <td>bmw</td>\n",
       "      <td>ja</td>\n",
       "    </tr>\n",
       "    <tr>\n",
       "      <th>6</th>\n",
       "      <td>Peugeot_206_CC_110_Platinum</td>\n",
       "      <td>2200</td>\n",
       "      <td>cabrio</td>\n",
       "      <td>2004</td>\n",
       "      <td>manuell</td>\n",
       "      <td>109</td>\n",
       "      <td>2_reihe</td>\n",
       "      <td>150000</td>\n",
       "      <td>8</td>\n",
       "      <td>benzin</td>\n",
       "      <td>peugeot</td>\n",
       "      <td>nein</td>\n",
       "    </tr>\n",
       "    <tr>\n",
       "      <th>10</th>\n",
       "      <td>Mazda_3_1.6_Sport</td>\n",
       "      <td>2000</td>\n",
       "      <td>limousine</td>\n",
       "      <td>2004</td>\n",
       "      <td>manuell</td>\n",
       "      <td>105</td>\n",
       "      <td>3_reihe</td>\n",
       "      <td>150000</td>\n",
       "      <td>12</td>\n",
       "      <td>benzin</td>\n",
       "      <td>mazda</td>\n",
       "      <td>nein</td>\n",
       "    </tr>\n",
       "  </tbody>\n",
       "</table>\n",
       "</div>"
      ],
      "text/plain": [
       "                                                 name  price vehicle_type  \\\n",
       "3                                  GOLF_4_1_4__3TÜRER   1500   kleinwagen   \n",
       "4                      Skoda_Fabia_1.4_TDI_PD_Classic   3600   kleinwagen   \n",
       "5   BMW_316i___e36_Limousine___Bastlerfahrzeug__Ex...    650    limousine   \n",
       "6                         Peugeot_206_CC_110_Platinum   2200       cabrio   \n",
       "10                                  Mazda_3_1.6_Sport   2000    limousine   \n",
       "\n",
       "    registration_year  gearbox  power_ps    model  kilometer  \\\n",
       "3                2001  manuell        75     golf     150000   \n",
       "4                2008  manuell        69    fabia      90000   \n",
       "5                1995  manuell       102      3er     150000   \n",
       "6                2004  manuell       109  2_reihe     150000   \n",
       "10               2004  manuell       105  3_reihe     150000   \n",
       "\n",
       "    registration_month fuel_type       brand unrepaired_damage  \n",
       "3                    6    benzin  volkswagen              nein  \n",
       "4                    7    diesel       skoda              nein  \n",
       "5                   10    benzin         bmw                ja  \n",
       "6                    8    benzin     peugeot              nein  \n",
       "10                  12    benzin       mazda              nein  "
      ]
     },
     "execution_count": 48,
     "metadata": {},
     "output_type": "execute_result"
    }
   ],
   "source": [
    "df.head()"
   ]
  },
  {
   "cell_type": "markdown",
   "id": "c13d2123-6a48-4929-898b-370618cb4520",
   "metadata": {
    "jp-MarkdownHeadingCollapsed": true
   },
   "source": [
    "## Exploring Price, Mileage by Brand"
   ]
  },
  {
   "cell_type": "markdown",
   "id": "f8c20d74-1044-4c97-96f3-98bc4b978b41",
   "metadata": {},
   "source": [
    "When working with data on cars, it's natural to explore variations across different car brands. We can use aggregation to understand the brand column."
   ]
  },
  {
   "cell_type": "code",
   "execution_count": 51,
   "id": "7d17a47a-ab7b-4675-86e9-59ba0078107b",
   "metadata": {},
   "outputs": [
    {
     "name": "stdout",
     "output_type": "stream",
     "text": [
      "Top 20 favourite car: Index(['volkswagen', 'bmw', 'opel', 'mercedes_benz', 'audi', 'ford', 'renault',\n",
      "       'peugeot', 'fiat', 'seat', 'skoda', 'mazda', 'toyota', 'citroen',\n",
      "       'smart', 'nissan', 'mini', 'hyundai', 'volvo', 'mitsubishi'],\n",
      "      dtype='object', name='brand')\n"
     ]
    }
   ],
   "source": [
    "top_20_brand=df[\"brand\"].value_counts().head(20).index\n",
    "print(\"Top 20 favourite car:\", top_20_brand)"
   ]
  },
  {
   "cell_type": "code",
   "execution_count": 52,
   "id": "1a8bc959-dd5c-4728-a117-4e658787d65b",
   "metadata": {},
   "outputs": [
    {
     "name": "stdout",
     "output_type": "stream",
     "text": [
      "volkswagen       5497.725710\n",
      "bmw              7008.477106\n",
      "opel             3601.726392\n",
      "mercedes_benz    6539.648714\n",
      "audi             7261.766218\n",
      "ford             4150.165980\n",
      "dtype: float64\n"
     ]
    }
   ],
   "source": [
    "brand_mean_price={}\n",
    "for b in top_20_brand:\n",
    "    mean_price=df.loc[df[\"brand\"]==b,\"price\"].mean()\n",
    "    brand_mean_price[b]=mean_price\n",
    "bmp_series = pd.Series(brand_mean_price).head(6)\n",
    "print(bmp_series)"
   ]
  },
  {
   "cell_type": "code",
   "execution_count": 53,
   "id": "321e207f-b839-44a1-b43c-2abc0dc21f1b",
   "metadata": {},
   "outputs": [
    {
     "name": "stdout",
     "output_type": "stream",
     "text": [
      "volkswagen       128557.902251\n",
      "bmw              137393.805658\n",
      "opel             126307.567591\n",
      "mercedes_benz    135188.934803\n",
      "audi             135369.379283\n",
      "ford             122733.378333\n",
      "dtype: float64\n"
     ]
    }
   ],
   "source": [
    "brand_mean_mileage={}\n",
    "for b in top_20_brand:\n",
    "    mean_mileage=df.loc[df[\"brand\"]==b,\"kilometer\"].mean()\n",
    "    brand_mean_mileage[b]=mean_mileage\n",
    "bmm_series = pd.Series(brand_mean_mileage).head(6)\n",
    "print(bmm_series)"
   ]
  },
  {
   "cell_type": "raw",
   "id": "f99caf26-1281-42a4-b44b-15d75919e17e",
   "metadata": {},
   "source": [
    "We observed that in the top 6 brands, there's a distinct price gap.\n",
    "\n",
    "Audi, BMW and Mercedes Benz are more expensive\n",
    "Ford and Opel are less expensive\n",
    "Volkswagen is in between"
   ]
  },
  {
   "cell_type": "code",
   "execution_count": 59,
   "id": "864654aa-b321-4dac-8e72-26100ef67fa4",
   "metadata": {},
   "outputs": [
    {
     "data": {
      "text/html": [
       "<div>\n",
       "<style scoped>\n",
       "    .dataframe tbody tr th:only-of-type {\n",
       "        vertical-align: middle;\n",
       "    }\n",
       "\n",
       "    .dataframe tbody tr th {\n",
       "        vertical-align: top;\n",
       "    }\n",
       "\n",
       "    .dataframe thead th {\n",
       "        text-align: right;\n",
       "    }\n",
       "</style>\n",
       "<table border=\"1\" class=\"dataframe\">\n",
       "  <thead>\n",
       "    <tr style=\"text-align: right;\">\n",
       "      <th></th>\n",
       "      <th>mean_price</th>\n",
       "      <th>mean_mileage</th>\n",
       "    </tr>\n",
       "  </thead>\n",
       "  <tbody>\n",
       "    <tr>\n",
       "      <th>volkswagen</th>\n",
       "      <td>5497.725710</td>\n",
       "      <td>128557.902251</td>\n",
       "    </tr>\n",
       "    <tr>\n",
       "      <th>bmw</th>\n",
       "      <td>7008.477106</td>\n",
       "      <td>137393.805658</td>\n",
       "    </tr>\n",
       "    <tr>\n",
       "      <th>opel</th>\n",
       "      <td>3601.726392</td>\n",
       "      <td>126307.567591</td>\n",
       "    </tr>\n",
       "    <tr>\n",
       "      <th>mercedes_benz</th>\n",
       "      <td>6539.648714</td>\n",
       "      <td>135188.934803</td>\n",
       "    </tr>\n",
       "    <tr>\n",
       "      <th>audi</th>\n",
       "      <td>7261.766218</td>\n",
       "      <td>135369.379283</td>\n",
       "    </tr>\n",
       "    <tr>\n",
       "      <th>ford</th>\n",
       "      <td>4150.165980</td>\n",
       "      <td>122733.378333</td>\n",
       "    </tr>\n",
       "  </tbody>\n",
       "</table>\n",
       "</div>"
      ],
      "text/plain": [
       "                mean_price   mean_mileage\n",
       "volkswagen     5497.725710  128557.902251\n",
       "bmw            7008.477106  137393.805658\n",
       "opel           3601.726392  126307.567591\n",
       "mercedes_benz  6539.648714  135188.934803\n",
       "audi           7261.766218  135369.379283\n",
       "ford           4150.165980  122733.378333"
      ]
     },
     "execution_count": 59,
     "metadata": {},
     "output_type": "execute_result"
    }
   ],
   "source": [
    "df_mean = pd.DataFrame(bmp_series, columns=['mean_price'])\n",
    "df_mean['mean_mileage']=bmm_series\n",
    "df_mean"
   ]
  },
  {
   "cell_type": "markdown",
   "id": "eb874f3e-e79b-49fe-afb5-b9fd62fb2219",
   "metadata": {},
   "source": [
    "The average number of brand's mileage is slightly differently\n",
    "\n",
    "Luxury brands such as Audi, BMW, and Mercedes-Benz were consistently priced higher, even if their mileage was not low. This aligns with the market positioning of these brands.\n",
    "\n",
    "We observed that generally, higher prices do not seem to correlate with mileage. For instance, luxury brands maintained high prices regardless of their mileage."
   ]
  },
  {
   "cell_type": "code",
   "execution_count": null,
   "id": "9936babe-27d5-4691-ade4-9dc10eb4a724",
   "metadata": {},
   "outputs": [],
   "source": []
  }
 ],
 "metadata": {
  "kernelspec": {
   "display_name": "Python 3 (ipykernel)",
   "language": "python",
   "name": "python3"
  },
  "language_info": {
   "codemirror_mode": {
    "name": "ipython",
    "version": 3
   },
   "file_extension": ".py",
   "mimetype": "text/x-python",
   "name": "python",
   "nbconvert_exporter": "python",
   "pygments_lexer": "ipython3",
   "version": "3.11.7"
  }
 },
 "nbformat": 4,
 "nbformat_minor": 5
}
